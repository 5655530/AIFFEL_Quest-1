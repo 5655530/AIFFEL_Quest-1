{
  "nbformat": 4,
  "nbformat_minor": 0,
  "metadata": {
    "colab": {
      "provenance": [],
      "authorship_tag": "ABX9TyNQ8Fol7131IFTPjMbiZd15",
      "include_colab_link": true
    },
    "kernelspec": {
      "name": "python3",
      "display_name": "Python 3"
    },
    "language_info": {
      "name": "python"
    }
  },
  "cells": [
    {
      "cell_type": "markdown",
      "metadata": {
        "id": "view-in-github",
        "colab_type": "text"
      },
      "source": [
        "<a href=\"https://colab.research.google.com/github/piaosan78/AIFFEL_Quest/blob/master/Quest01/Quest01(%EC%88%98%EC%A0%95).ipynb\" target=\"_parent\"><img src=\"https://colab.research.google.com/assets/colab-badge.svg\" alt=\"Open In Colab\"/></a>"
      ]
    },
    {
      "cell_type": "code",
      "execution_count": 6,
      "metadata": {
        "colab": {
          "base_uri": "https://localhost:8080/"
        },
        "id": "dzL1FdZAuiAn",
        "outputId": "04710c99-299c-4f50-d2cf-3dd29c3dfbd1"
      },
      "outputs": [
        {
          "output_type": "stream",
          "name": "stdout",
          "text": [
            "입력값:\n",
            "나이트\n",
            "\n",
            "출력값:\n",
            "뒤집힌 단어는: 트이나\n",
            "입력한 단어는 회문이 아닙니다.\n"
          ]
        }
      ],
      "source": [
        "words = input(\"입력값:\\n\")\n",
        "\n",
        "def words_check(words) :\n",
        "  for i in range(len(words)//2) :\n",
        "      if words[i] == words[-1 -i] :\n",
        "          word = \"\".join(reversed(words))\n",
        "          print()\n",
        "          print(\"출력값:\")\n",
        "          print(\"뒤집힌 단어는:\", word)\n",
        "          print(\"입력한 단어는 회문입니다.\")\n",
        "      else :\n",
        "          word = \"\".join(reversed(words))\n",
        "          print()\n",
        "          print(\"출력값:\")\n",
        "          print(\"뒤집힌 단어는:\", word)\n",
        "          print(\"입력한 단어는 회문이 아닙니다.\")\n",
        "\n",
        "words_check(words)"
      ]
    }
  ]
}